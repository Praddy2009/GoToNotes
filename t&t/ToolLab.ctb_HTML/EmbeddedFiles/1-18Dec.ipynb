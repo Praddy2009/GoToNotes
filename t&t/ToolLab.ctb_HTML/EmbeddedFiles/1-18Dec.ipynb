{
 "cells": [
  {
   "cell_type": "code",
   "execution_count": 1,
   "metadata": {},
   "outputs": [
    {
     "name": "stdout",
     "output_type": "stream",
     "text": [
      "Hello World\n"
     ]
    }
   ],
   "source": [
    "print(\"Hello World\")"
   ]
  },
  {
   "cell_type": "code",
   "execution_count": 12,
   "metadata": {},
   "outputs": [
    {
     "name": "stdout",
     "output_type": "stream",
     "text": [
      "What is yor name?\n",
      "Praddyum\n"
     ]
    }
   ],
   "source": [
    "name=input(\"What is yor name?\\n\")"
   ]
  },
  {
   "cell_type": "code",
   "execution_count": 13,
   "metadata": {},
   "outputs": [
    {
     "name": "stdout",
     "output_type": "stream",
     "text": [
      "Hi, Praddyum.\n"
     ]
    }
   ],
   "source": [
    "print(\"Hi, %s.\"%name)"
   ]
  },
  {
   "cell_type": "code",
   "execution_count": 5,
   "metadata": {},
   "outputs": [
    {
     "name": "stdout",
     "output_type": "stream",
     "text": [
      "What is your last name?\n",
      "Verma\n"
     ]
    }
   ],
   "source": [
    "lname=input(\"What is your last name?\\n\")"
   ]
  },
  {
   "cell_type": "code",
   "execution_count": 14,
   "metadata": {},
   "outputs": [
    {
     "name": "stdout",
     "output_type": "stream",
     "text": [
      "Hi,Praddyum Verma\n"
     ]
    }
   ],
   "source": [
    "print(\"Hi,\"+name+\" \"+lname)"
   ]
  },
  {
   "cell_type": "code",
   "execution_count": 17,
   "metadata": {},
   "outputs": [
    {
     "name": "stdout",
     "output_type": "stream",
     "text": [
      "Input an Integer:2\n",
      "Input an Integer:2.3\n",
      "2 2.3\n"
     ]
    }
   ],
   "source": [
    "x=int(input(\"Input an Integer:\"))\n",
    "y=float(input(\"Input an Integer:\"))\n",
    "print (x,y)"
   ]
  },
  {
   "cell_type": "code",
   "execution_count": 32,
   "metadata": {},
   "outputs": [
    {
     "name": "stdout",
     "output_type": "stream",
     "text": [
      "Length of square:2\n",
      "Perimeter:8.0\n",
      "Radius of circle:4\n",
      "Area:50.24\n"
     ]
    }
   ],
   "source": [
    "#Write a code to calculate the perimeter of a square and area of a circle.\n",
    "s=float(input(\"Length of square:\"))\n",
    "print(\"Perimeter:\"+str(s*4))\n",
    "\n",
    "c=float(input(\"Radius of circle:\"))\n",
    "print(\"Area:\"+str(3.14*c*c))"
   ]
  },
  {
   "cell_type": "code",
   "execution_count": 33,
   "metadata": {},
   "outputs": [
    {
     "name": "stdout",
     "output_type": "stream",
     "text": [
      "Num1:10\n",
      "Num2:5\n",
      "Before Swapping a= 10 b= 5\n",
      "After Swapping a= 5 b= 10\n"
     ]
    }
   ],
   "source": [
    "#Swapping of two numbers\n",
    "a=int(input(\"Num1:\"))\n",
    "b=int(input(\"Num2:\"))\n",
    "print(\"Before Swapping \"+\"a= \"+str(a)+\" b= \"+str(b))\n",
    "a=a+b\n",
    "b=a-b\n",
    "a=a-b\n",
    "print(\"After Swapping \"+\"a= \"+str(a)+\" b= \"+str(b))"
   ]
  },
  {
   "cell_type": "code",
   "execution_count": 41,
   "metadata": {},
   "outputs": [
    {
     "name": "stdout",
     "output_type": "stream",
     "text": [
      "Input the number21\n",
      "Odd\n"
     ]
    }
   ],
   "source": [
    "marks=int(input(\"Input the number\"))\n",
    "if marks%2==0:\n",
    "    print(\"Even\")\n",
    "else:\n",
    "    print(\"Odd\")"
   ]
  },
  {
   "cell_type": "code",
   "execution_count": 48,
   "metadata": {},
   "outputs": [
    {
     "name": "stdout",
     "output_type": "stream",
     "text": [
      "15\n"
     ]
    }
   ],
   "source": [
    "#WAP to find sum of numbers in list\n",
    "l=[1,2,3,4,5]\n",
    "s=0\n",
    "for n in l:\n",
    "    s=s+n\n",
    "print(s)"
   ]
  },
  {
   "cell_type": "code",
   "execution_count": 50,
   "metadata": {},
   "outputs": [
    {
     "name": "stdout",
     "output_type": "stream",
     "text": [
      "Input the number5\n",
      "15\n"
     ]
    }
   ],
   "source": [
    "#wap to find the sum of natural numbers\n",
    "num=int(input(\"Input the number \"))\n",
    "sum=0\n",
    "while n>0:\n",
    "    sum=sum+n\n",
    "    n=n-1\n",
    "    \n",
    "print(sum)    "
   ]
  },
  {
   "cell_type": "code",
   "execution_count": 51,
   "metadata": {},
   "outputs": [
    {
     "name": "stdout",
     "output_type": "stream",
     "text": [
      "b\n",
      "e\n",
      "a\n",
      "u\n",
      "The End\n"
     ]
    }
   ],
   "source": [
    "for val in \"beautiful\":\n",
    "    if val==\"t\":\n",
    "        break\n",
    "    print(val)\n",
    "    \n",
    "print(\"The End\")"
   ]
  },
  {
   "cell_type": "code",
   "execution_count": 55,
   "metadata": {},
   "outputs": [
    {
     "name": "stdout",
     "output_type": "stream",
     "text": [
      "Input the year 2020\n",
      "Leap Year\n"
     ]
    }
   ],
   "source": [
    "#check if year is a leap year or not\n",
    "\n",
    "year=int(input(\"Input the year \"))\n",
    "if year % 4 == 0:\n",
    "    if year%100==0:\n",
    "        if year%400==0:\n",
    "            print(\"leap year\")\n",
    "        else:\n",
    "            print(\"Not a leap year\")\n",
    "    else:\n",
    "        print(\"Leap Year\")\n",
    "else:\n",
    "    print(\"Not a leap year\")"
   ]
  },
  {
   "cell_type": "code",
   "execution_count": 60,
   "metadata": {},
   "outputs": [
    {
     "name": "stdout",
     "output_type": "stream",
     "text": [
      "Input the number 1 4\n",
      "Input the number 2 9\n",
      "The gcd is : \n",
      "1\n"
     ]
    }
   ],
   "source": [
    "#WAP to find the GCD/HCF of two numbers .\n",
    "def GCD(x, y): \n",
    "  \n",
    "    if x > y: \n",
    "        smaller = y \n",
    "    else: \n",
    "        smaller = x \n",
    "    for i in range(1, smaller+1): \n",
    "        if((x % i == 0) and (y % i == 0)): \n",
    "            gcd = i \n",
    "              \n",
    "    return gcd \n",
    "  \n",
    "a = int(input(\"Input the number 1 \"))\n",
    "b= int(input(\"Input the number 2 \"))\n",
    "  \n",
    "print (\"The gcd is : \") \n",
    "print (GCD(a,b)) "
   ]
  },
  {
   "cell_type": "code",
   "execution_count": null,
   "metadata": {},
   "outputs": [],
   "source": []
  }
 ],
 "metadata": {
  "kernelspec": {
   "display_name": "Python 3",
   "language": "python",
   "name": "python3"
  },
  "language_info": {
   "codemirror_mode": {
    "name": "ipython",
    "version": 3
   },
   "file_extension": ".py",
   "mimetype": "text/x-python",
   "name": "python",
   "nbconvert_exporter": "python",
   "pygments_lexer": "ipython3",
   "version": "3.8.3"
  }
 },
 "nbformat": 4,
 "nbformat_minor": 4
}
